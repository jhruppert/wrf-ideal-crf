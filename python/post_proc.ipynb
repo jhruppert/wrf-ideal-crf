{
 "cells": [
  {
   "cell_type": "code",
   "execution_count": 6,
   "metadata": {},
   "outputs": [],
   "source": [
    "# Script to post-process high-resolution WRF model output.\n",
    "\n",
    "# Major tasks include computing the following for selected variables:\n",
    "#   1. domain-averages to produce time series\n",
    "#   2. vertical integrals\n",
    "#   3. pressure-level vertical interpolation"
   ]
  },
  {
   "cell_type": "code",
   "execution_count": 15,
   "metadata": {},
   "outputs": [],
   "source": [
    "from netCDF4 import Dataset\n",
    "import numpy as np\n",
    "from wrf import getvar, vinterp, disable_xarray, ALL_TIMES\n",
    "from read_wrf_ideal import *\n",
    "from post_proc_functions import *\n",
    "import os\n",
    "\n",
    "disable_xarray()"
   ]
  },
  {
   "cell_type": "code",
   "execution_count": 8,
   "metadata": {},
   "outputs": [],
   "source": [
    "# Basic 2D variables\n",
    "do_2d_vars = False\n",
    "\n",
    "# Special 2D variables\n",
    "do_2d_special = False\n",
    "\n",
    "# 2D ACRE variables\n",
    "do_acre = False\n",
    "\n",
    "# 2D ACRE variables\n",
    "do_3d_vars = True\n",
    "\n",
    "# Special 3D variables\n",
    "do_3d_special = False"
   ]
  },
  {
   "cell_type": "code",
   "execution_count": 9,
   "metadata": {},
   "outputs": [],
   "source": [
    "#### Directories and model output specs\n",
    "\n",
    "test_process = \"ctl\"\n",
    "\n",
    "datdir = \"/glade/derecho/scratch/ruppert/wrf-ideal/smalldom/\"\n",
    "wrfdir = \"/glade/campaign/univ/uokl0049/ideal/largedom2/\"+test_process+\"/\"\n",
    "outdir = wrfdir+\"post_proc/\"\n",
    "os.makedirs(outdir, exist_ok=True)\n",
    "\n",
    "# # Get WRF file list, dimensions\n",
    "wrftag = \"wrfout_d01\"\n",
    "wrffiles = get_wrf_file_list(wrfdir, wrftag)\n",
    "lat, lon, nx1, nx2, nz, npd = wrf_dims(wrffiles[0])\n",
    "nfiles = len(wrffiles)\n",
    "\n",
    "# New vertical dimension for pressure levels\n",
    "dp = 25 # hPa\n",
    "pres = np.arange(1000, 25, -dp)\n",
    "nznew = len(pres)\n",
    "\n",
    "# Get variable lists\n",
    "vars2d = var_list_2d()\n",
    "vars3d = var_list_3d()"
   ]
  },
  {
   "cell_type": "code",
   "execution_count": 10,
   "metadata": {},
   "outputs": [],
   "source": [
    "# Use CDO mergetime to generate files of basic 2D variables\n",
    "\n",
    "if do_2d_vars:\n",
    "\n",
    "    for ivar in vars2d[0:1]:\n",
    "\n",
    "        varname_str = ivar.upper()\n",
    "        operation_str1 = 'cdo mergetime'\n",
    "        operation_str2 = ' -selname,'+varname_str+' '\n",
    "        out_file = ' '+outdir+varname_str+'.nc'\n",
    "\n",
    "        # Create string array of file-specific commands\n",
    "        cdo_line = [operation_str1]\n",
    "        for ifil in wrffiles[0:3]:\n",
    "            cdo_line.append(operation_str2+ifil)\n",
    "        # Then join them into one string\n",
    "        cdo_line_merged = \" \".join(cdo_line)\n",
    "\n",
    "        # Run CDO command\n",
    "        process = subprocess.Popen([cdo_line_merged+out_file], shell=True, stdout=subprocess.PIPE, stderr=subprocess.PIPE, universal_newlines=True)\n",
    "        # lines = process.stdout.readlines()\n",
    "        # lines = process.stderr.readlines()\n",
    "        # for iline in lines:\n",
    "        #     print(iline)"
   ]
  },
  {
   "cell_type": "code",
   "execution_count": 11,
   "metadata": {},
   "outputs": [],
   "source": [
    "# Use CDO subtraction to generate ACRE\n",
    "\n",
    "if do_acre:\n",
    "\n",
    "    # Calculate the longwave ACRE\n",
    "    operation_str = 'cdo sub '+outdir+'LWUPT.nc '+outdir+'LWDNT.nc lw_t.nc'\n",
    "    process = subprocess.Popen(operation_str, shell=True, stdout=subprocess.PIPE, stderr=subprocess.PIPE, universal_newlines=True)\n",
    "    operation_str = 'cdo sub '+outdir+'LWUPB.nc '+outdir+'LWDNB.nc lw_b.nc'\n",
    "    process = subprocess.Popen(operation_str, shell=True, stdout=subprocess.PIPE, stderr=subprocess.PIPE, universal_newlines=True)\n",
    "    operation_str = 'cdo sub '+outdir+'lw_b.nc '+outdir+'lw_t.nc lw_net.nc'\n",
    "    process = subprocess.Popen(operation_str, shell=True, stdout=subprocess.PIPE, stderr=subprocess.PIPE, universal_newlines=True)\n",
    "\n",
    "    operation_str = 'cdo sub '+outdir+'LWUPTC.nc '+outdir+'LWDNTC.nc lw_tC.nc'\n",
    "    process = subprocess.Popen(operation_str, shell=True, stdout=subprocess.PIPE, stderr=subprocess.PIPE, universal_newlines=True)\n",
    "    operation_str = 'cdo sub '+outdir+'LWUPBC.nc '+outdir+'LWDNBC.nc lw_bC.nc'\n",
    "    process = subprocess.Popen(operation_str, shell=True, stdout=subprocess.PIPE, stderr=subprocess.PIPE, universal_newlines=True)\n",
    "    operation_str = 'cdo sub '+outdir+'lw_bC.nc '+outdir+'lw_tC.nc lw_netC.nc'\n",
    "    process = subprocess.Popen(operation_str, shell=True, stdout=subprocess.PIPE, stderr=subprocess.PIPE, universal_newlines=True)\n",
    "\n",
    "    operation_str = 'cdo sub '+outdir+'lw_net.nc '+outdir+'lw_netC.nc LWacre.nc'\n",
    "    process = subprocess.Popen(operation_str, shell=True, stdout=subprocess.PIPE, stderr=subprocess.PIPE, universal_newlines=True)\n",
    "\n",
    "    # Calculate the shortwave ACRE\n",
    "    operation_str = 'cdo sub '+outdir+'SWUPT.nc '+outdir+'SWDNT.nc sw_t.nc'\n",
    "    process = subprocess.Popen(operation_str, shell=True, stdout=subprocess.PIPE, stderr=subprocess.PIPE, universal_newlines=True)\n",
    "    operation_str = 'cdo sub '+outdir+'SWUPB.nc '+outdir+'SWDNB.nc sw_b.nc'\n",
    "    process = subprocess.Popen(operation_str, shell=True, stdout=subprocess.PIPE, stderr=subprocess.PIPE, universal_newlines=True)\n",
    "    operation_str = 'cdo sub '+outdir+'sw_b.nc '+outdir+'sw_t.nc sw_net.nc'\n",
    "    process = subprocess.Popen(operation_str, shell=True, stdout=subprocess.PIPE, stderr=subprocess.PIPE, universal_newlines=True)\n",
    "\n",
    "    operation_str = 'cdo sub '+outdir+'SWUPTC.nc '+outdir+'SWDNTC.nc sw_tC.nc'\n",
    "    process = subprocess.Popen(operation_str, shell=True, stdout=subprocess.PIPE, stderr=subprocess.PIPE, universal_newlines=True)\n",
    "    operation_str = 'cdo sub '+outdir+'SWUPBC.nc '+outdir+'SWDNBC.nc sw_bC.nc'\n",
    "    process = subprocess.Popen(operation_str, shell=True, stdout=subprocess.PIPE, stderr=subprocess.PIPE, universal_newlines=True)\n",
    "    operation_str = 'cdo sub '+outdir+'sw_bC.nc '+outdir+'sw_tC.nc sw_netC.nc'\n",
    "    process = subprocess.Popen(operation_str, shell=True, stdout=subprocess.PIPE, stderr=subprocess.PIPE, universal_newlines=True)\n",
    "\n",
    "    operation_str = 'cdo sub '+outdir+'sw_net.nc '+outdir+'sw_netC.nc SWacre.nc'\n",
    "    process = subprocess.Popen(operation_str, shell=True, stdout=subprocess.PIPE, stderr=subprocess.PIPE, universal_newlines=True)\n",
    "\n",
    "    # lines = process.stdout.readlines()\n",
    "    # lines = process.stderr.readlines()\n",
    "    # for iline in lines:\n",
    "    #     print(iline)"
   ]
  },
  {
   "cell_type": "code",
   "execution_count": 12,
   "metadata": {},
   "outputs": [],
   "source": [
    "if do_2d_special:\n",
    "\n",
    "    # Read in variable from WRF files\n",
    "    # for ifile in range(nfiles):\n",
    "    for ifile in range(3):\n",
    "\n",
    "        # Read in hydrostatic pressure to get dp for integral\n",
    "        p_hyd = wrf_var_read(wrffiles[ifile],'P_HYD') # Pa\n",
    "        # p_hyd = np.ma.masked_where((p_hyd < 100e2), p_hyd, copy=False) # Mask out levels above 100 hPa\n",
    "        dp = np.gradient(p_hyd, axis=0, edge_order=1) # [Pa] Uses second order centered differencing\n",
    "\n",
    "        # Read in variables\n",
    "        # pclass\n",
    "        var = wrf_pclass(wrffiles[ifile], dp)\n",
    "        if ifile == 0:\n",
    "            pclass_all = var\n",
    "        else:\n",
    "            pclass_all = np.concatenate((pclass_all, var), axis=0)\n",
    "        # rain\n",
    "        var = wrf_var_read(wrffiles[ifile], 'RAINNC')\n",
    "        if ifile == 0:\n",
    "            rainnc_all = var\n",
    "        else:\n",
    "            rainnc_all = np.concatenate((rainnc_all, var), axis=0)\n",
    "        # pw\n",
    "        var = wrf_pw(wrffiles[ifile], p_hyd, dp)\n",
    "        if ifile == 0:\n",
    "            pw_all = var\n",
    "        else:\n",
    "            pw_all = np.concatenate((pw_all, var), axis=0)\n",
    "        # pw_sat\n",
    "        var = wrf_pw_sat(wrffiles[ifile], p_hyd, dp)\n",
    "        if ifile == 0:\n",
    "            pw_sat_all = var\n",
    "        else:\n",
    "            pw_sat_all = np.concatenate((pw_sat_all, var), axis=0)\n",
    "\n",
    "    nt = pclass_all.shape[0]\n",
    "\n",
    "    # Calculate rain rate as centered difference\n",
    "    rainrate = np.zeros((nt, nx1, nx2))\n",
    "    rainrate[1:-1] = (rainnc_all[2:] - rainnc_all[:-2])*0.5\n",
    "    rainrate *= npd # mm/time step --> mm/day\n",
    "\n",
    "    # Write out the variables\n",
    "    description, units, dim_set = get_metadata('pclass', nt, nz, nx1, nx2)\n",
    "    write_ncfile(outdir+'pclass.nc', pclass_all, 'pclass', description, units, dim_set)\n",
    "    description, units, dim_set = get_metadata('rain', nt, nz, nx1, nx2)\n",
    "    write_ncfile(outdir+'rainrate.nc', rainrate, 'rainrate', description, units, dim_set)\n",
    "    description, units, dim_set = get_metadata('pw', nt, nz, nx1, nx2)\n",
    "    write_ncfile(outdir+'pw.nc', pw_all, 'pw', description, units, dim_set)\n",
    "    description, units, dim_set = get_metadata('pw_sat', nt, nz, nx1, nx2)\n",
    "    write_ncfile(outdir+'pw_sat.nc', pw_sat_all, 'pw_sat', description, units, dim_set)"
   ]
  },
  {
   "cell_type": "code",
   "execution_count": 13,
   "metadata": {},
   "outputs": [
    {
     "name": "stdout",
     "output_type": "stream",
     "text": [
      "QVAPOR\n"
     ]
    }
   ],
   "source": [
    "if do_3d_vars:\n",
    "\n",
    "    for ivar in vars3d[0:1]:\n",
    "\n",
    "        varname_str = ivar.upper()\n",
    "\n",
    "        # Read in variable from WRF files\n",
    "        # for ifile in range(nfiles):\n",
    "        print(ivar.upper())\n",
    "        for ifile in range(1):\n",
    "            wrfdset = Dataset(wrffiles[ifile])\n",
    "            var = wrfdset.variables[ivar.upper()][...]\n",
    "            wrfdset.close()\n",
    "            if ifile == 0:\n",
    "                var_all = var\n",
    "            else:\n",
    "                var_all = np.concatenate((var_all, var), axis=0)"
   ]
  },
  {
   "cell_type": "code",
   "execution_count": 18,
   "metadata": {},
   "outputs": [
    {
     "ename": "",
     "evalue": "",
     "output_type": "error",
     "traceback": [
      "\u001b[1;31mThe Kernel crashed while executing code in the the current cell or a previous cell. Please review the code in the cell(s) to identify a possible cause of the failure. Click <a href='https://aka.ms/vscodeJupyterKernelCrash'>here</a> for more info. View Jupyter <a href='command:jupyter.viewOutput'>log</a> for further details."
     ]
    }
   ],
   "source": [
    "wrffil_read = Dataset(wrffiles[0])\n",
    "p = getvar(wrffil_read, \"pres\", units=\"hPa\")\n",
    "qv = getvar(wrffil_read, \"QVAPOR\")\n",
    "qv_interp = vinterp(wrffil_read, var, 'p', pres, extrapolate=False, timeidx=ALL_TIMES)\n",
    "wrffil_read.close()"
   ]
  },
  {
   "cell_type": "code",
   "execution_count": null,
   "metadata": {},
   "outputs": [],
   "source": [
    "qv_interp.shape"
   ]
  },
  {
   "cell_type": "code",
   "execution_count": 14,
   "metadata": {},
   "outputs": [
    {
     "data": {
      "text/plain": [
       "(48, 79, 266, 266)"
      ]
     },
     "execution_count": 14,
     "metadata": {},
     "output_type": "execute_result"
    }
   ],
   "source": [
    "var_all.shape"
   ]
  }
 ],
 "metadata": {
  "kernelspec": {
   "display_name": "plotting",
   "language": "python",
   "name": "python3"
  },
  "language_info": {
   "codemirror_mode": {
    "name": "ipython",
    "version": 3
   },
   "file_extension": ".py",
   "mimetype": "text/x-python",
   "name": "python",
   "nbconvert_exporter": "python",
   "pygments_lexer": "ipython3",
   "version": "3.11.10"
  }
 },
 "nbformat": 4,
 "nbformat_minor": 2
}
