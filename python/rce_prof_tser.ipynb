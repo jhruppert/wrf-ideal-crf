{
 "cells": [
  {
   "cell_type": "markdown",
   "metadata": {},
   "source": [
    "Notebook to average WRF model output in time and space and generate 1) a mean profile for use in a new WRF idealized simulation and 2) domain-averaged time series stats.\n",
    "\n",
    "Specifications for the model runs post-processed here closely follow those laid out for RCEMIP (Wing et al. 2018; https://doi.org/10.5194/gmd-11-793-2018)\n",
    "\n",
    "Format of output file \"input_sounding\" that can be used be WRF-Ideal, by line:\n",
    "1. Surface pressure [hPa], temperature [K] (prescribed SST), and water vapor mixing ratio [g/kg]\n",
    "2. Level height [m], potential temperature [K], mixing ratio [g/kg], u-wind [m/s], v-wind [m/s]\n",
    "3. same as 2. up to top\n",
    "\n",
    "This script leverages the CDO (https://code.mpimet.mpg.de/projects/cdo/) module via subprocess (executes as a terminal command) to generate basic time series, which helps for checking for RCE. This should be available either by loading as a module or installing into the conda/mamba kernel you're running.\n",
    "\n",
    "James Ruppert  \n",
    "9 April 2024"
   ]
  },
  {
   "cell_type": "code",
   "execution_count": 8,
   "metadata": {},
   "outputs": [],
   "source": [
    "from netCDF4 import Dataset\n",
    "import numpy as np\n",
    "from matplotlib import rc#, ticker, colors\n",
    "import matplotlib.pyplot as plt\n",
    "import matplotlib.dates as mdates\n",
    "from wrf import getvar, ALL_TIMES\n",
    "import subprocess\n",
    "import pandas as pd\n",
    "from read_wrf_ideal import *\n",
    "import seaborn as sns"
   ]
  },
  {
   "cell_type": "code",
   "execution_count": 9,
   "metadata": {},
   "outputs": [],
   "source": [
    "# For plotting\n",
    "\n",
    "font = {'family' : 'sans-serif',\n",
    "        'weight' : 'normal',\n",
    "        'size'   : 14}\n",
    "\n",
    "rc('font', **font)\n",
    "\n",
    "sns.set_theme(style=\"darkgrid\", rc={'xtick.bottom': True, 'ytick.left': True,})"
   ]
  },
  {
   "cell_type": "markdown",
   "metadata": {},
   "source": [
    "## Main Settings"
   ]
  },
  {
   "cell_type": "code",
   "execution_count": 3,
   "metadata": {},
   "outputs": [],
   "source": [
    "# Notebook operations to run\n",
    "\n",
    "# Generate domain-mean time series stats via CDO?\n",
    "do_cdo_2d = True\n",
    "# Plot time series to check for RCE?\n",
    "do_plot_tser = True\n",
    "# Generate domain-mean profile via CDO?\n",
    "do_cdo_3d = True\n",
    "# Write file 'input_sounding'?\n",
    "write_input_sounding = True\n",
    "\n",
    "# Test to use to generate file 'input_sounding'\n",
    "# Set this if write_input_sounding=True\n",
    "test_input_sounding = 'smalldom'"
   ]
  },
  {
   "cell_type": "code",
   "execution_count": 4,
   "metadata": {},
   "outputs": [],
   "source": [
    "# Which test to process/analyze\n",
    "test_process = \"smalldom\"\n",
    "# test_process = \"ctl\"\n",
    "\n",
    "# Small domain model time specs\n",
    "# npd = 24 # time steps per day\n",
    "npfile_smalldom = 24 # time steps per output file\n",
    "nd_smalldom=100 # total n-days of run\n",
    "\n",
    "# Large domain model time specs\n",
    "npd = 48 # time steps per day\n",
    "npfile_smalldom = npd # time steps per output file\n",
    "nd_largedom=86 # total n-days of run\n",
    "\n",
    "# Specs for generating 'input_sounding'\n",
    "nd_avg=30 # n-days to average over for 'input_sounding' (set to 30 per W18)\n",
    "sst=300 # K: the prescribed SST for the model simulation, which goes into 'input_sounding'"
   ]
  },
  {
   "cell_type": "markdown",
   "metadata": {},
   "source": [
    "#### Directories and model output files"
   ]
  },
  {
   "cell_type": "code",
   "execution_count": 5,
   "metadata": {},
   "outputs": [],
   "source": [
    "scdir = \"/glade/derecho/scratch/ruppert/wrf-ideal/\"\n",
    "wrfdir = scdir+test_process+\"/\"\n",
    "workdir = \"/glade/work/ruppert/wrf-ideal-crf/\"\n",
    "wrftag = \"wrfout_d01\"\n",
    "\n",
    "figdir = \"/glade/u/home/ruppert/figures/wrf-ideal/\"\n",
    "\n",
    "wrffiles = get_wrf_file_list(wrfdir, wrftag)\n",
    "lat, lon, nx1, nx2, nz, dummy = wrf_dims(wrffiles[0])"
   ]
  },
  {
   "cell_type": "markdown",
   "metadata": {},
   "source": [
    "## Domain-mean time series"
   ]
  },
  {
   "cell_type": "markdown",
   "metadata": {},
   "source": [
    "#### Generate time series via CDO"
   ]
  },
  {
   "cell_type": "code",
   "execution_count": 6,
   "metadata": {},
   "outputs": [],
   "source": [
    "varname_str = 'RAINNC,OLR,HFX,LH '\n",
    "operation_str1 = 'cdo mergetime'\n",
    "operation_str2 = ' -fldavg -selname,'+varname_str\n",
    "timeseries_file = \" \"+workdir+'python/netcdf/'+test_process+'_2d_timeseries.nc'\n",
    "\n",
    "# Create string array of file-specific commands\n",
    "if do_cdo_2d:\n",
    "\n",
    "    cdo_line = [operation_str1]\n",
    "    for ifil in wrffiles:\n",
    "        cdo_line.append(operation_str2+ifil)\n",
    "    # Then join them into one string\n",
    "    cdo_line_merged = \" \".join(cdo_line)\n",
    "\n",
    "    # Run CDO command\n",
    "    # First remove file if it exists\n",
    "    process = subprocess.Popen(['rm -f '+timeseries_file], shell=True, stdout=subprocess.PIPE, universal_newlines=True)\n",
    "    process = subprocess.Popen([cdo_line_merged+timeseries_file], shell=True, stdout=subprocess.PIPE, universal_newlines=True)\n",
    "    # lines = process.stdout.readlines()\n",
    "    # for iline in lines:\n",
    "    #     print(iline)"
   ]
  },
  {
   "cell_type": "markdown",
   "metadata": {},
   "source": [
    "#### Read time series data"
   ]
  },
  {
   "cell_type": "code",
   "execution_count": 7,
   "metadata": {},
   "outputs": [],
   "source": [
    "def plot_time_series(rain_ts, olr_ts, lh_ts, sh_ts, times):\n",
    "\n",
    "        # Use Pandas to smooth via running mean\n",
    "        def smooth_tser(invar, nsmooth=3):\n",
    "                invar_df = pd.DataFrame(invar)\n",
    "                invar_df = invar_df.rolling(window=nsmooth, center=True, closed='both', min_periods=nsmooth).mean()\n",
    "                return invar_df\n",
    "        n_smooth = npd*3\n",
    "        rain_sm = smooth_tser(rain_ts, n_smooth)\n",
    "        olr_sm = smooth_tser(olr_ts, n_smooth)\n",
    "        lh_sm = smooth_tser(lh_ts, n_smooth)\n",
    "        sh_sm = smooth_tser(sh_ts, n_smooth)\n",
    "\n",
    "        # create figure\n",
    "        fig, ax1 = plt.subplots(figsize=(6,3))\n",
    "\n",
    "        # Time labels\n",
    "        ax1.xaxis.set_major_locator(mdates.AutoDateLocator())\n",
    "        ax1.xaxis.set_major_formatter(mdates.ConciseDateFormatter(ax1.xaxis.get_major_locator()))\n",
    "\n",
    "        ax1.set_title('Time Series RCE Check')#, fontsize=20)\n",
    "        # ax1.set_xlabel('Time [days]')\n",
    "        ax1.set_xlabel('Date')\n",
    "\n",
    "        ax1.set_ylabel('mm/day')\n",
    "        ax1.set_ylim(0,1)\n",
    "\n",
    "        ax1.plot(times, rain_sm, linewidth=2, label='Rain rate', color='black', linestyle='solid')\n",
    "\n",
    "        ax2 = ax1.twinx()\n",
    "        ax2.set_ylim(0,300)\n",
    "        ax2.set_ylabel('W/m$^2$')\n",
    "\n",
    "        ax2.plot(times, olr_sm, linewidth=2, label='OLR', color='blue', linestyle='solid')\n",
    "        ax2.plot(times, lh_sm, linewidth=2, label='LH', color='red', linestyle='solid')\n",
    "        ax2.plot(times, sh_sm, linewidth=2, label='SH', color='red', linestyle='dashed')\n",
    "\n",
    "        plt.legend(loc=\"upper right\")\n",
    "\n",
    "        # figname=figdir+'tser_'+storm+'_'+figtag+'_'+fig_extra+'.png'\n",
    "        # plt.savefig(figname,dpi=200, facecolor='white', bbox_inches='tight', pad_inches=0.2)\n",
    "        plt.show()\n",
    "        plt.close()\n",
    "        return None"
   ]
  },
  {
   "cell_type": "code",
   "execution_count": 8,
   "metadata": {},
   "outputs": [
    {
     "data": {
      "image/png": "[encoded data removed]",
      "text/plain": [
       "<Figure size 600x300 with 2 Axes>"
      ]
     },
     "metadata": {},
     "output_type": "display_data"
    }
   ],
   "source": [
    "if do_plot_tser:\n",
    "\n",
    "    wrffile_read = Dataset(timeseries_file)\n",
    "\n",
    "    # Read in sfc fluxes\n",
    "    for ifile in wrffiles[0:1]:\n",
    "        ds = Dataset(ifile)\n",
    "        hfx = getvar(ds, 'HFX', timeidx=ALL_TIMES)\n",
    "\n",
    "    # General specs\n",
    "    nt_ts = wrffile_read.dimensions['XTIME'].size\n",
    "    times = np.squeeze(wrffile_read.variables['XTIME']) # minutes since model start\n",
    "    # time_days = times/60/24 # days\n",
    "    time_0 = np.datetime64('2007-06-01T00:00', 'm')\n",
    "    times = time_0+times.astype('timedelta64[m]')\n",
    "\n",
    "    # Read in variables\n",
    "\n",
    "    rainnc = np.squeeze(wrffile_read.variables['RAINNC']) # accumulated rain, mm\n",
    "    olr_ts = np.squeeze(wrffile_read.variables['OLR']) # W/m2\n",
    "    sh_ts = np.squeeze(wrffile_read.variables['HFX']) # W/m2\n",
    "    lh_ts = np.squeeze(wrffile_read.variables['LH']) # W/m2\n",
    "\n",
    "    wrffile_read.close()\n",
    "\n",
    "    # Rain rate as centered difference\n",
    "    rain_ts=np.zeros(nt_ts)\n",
    "    rain_ts[1:nt_ts-2] = (rainnc[2:nt_ts-1] - rainnc[0:nt_ts-3])*0.5\n",
    "    rain_ts[[0,nt_ts-1]] = np.nan\n",
    "    rain_ts *= npd # mm/output_dt --> mm/day\n",
    "\n",
    "    plot_time_series(rain_ts, olr_ts, lh_ts, sh_ts, times)"
   ]
  },
  {
   "cell_type": "markdown",
   "metadata": {},
   "source": [
    "## Prepare input_sounding"
   ]
  },
  {
   "cell_type": "markdown",
   "metadata": {},
   "source": [
    "#### Generate mean profile via CDO"
   ]
  },
  {
   "cell_type": "code",
   "execution_count": 9,
   "metadata": {},
   "outputs": [],
   "source": [
    "# Notes:\n",
    "# Need to read/write base-state geopotential, since only perturbation is updated\n",
    "# Need to add 300 K to T, which is potential temperature\n",
    "\n",
    "varname_str = 'PSFC,Q2,PH,T,QVAPOR '\n",
    "operation_str1 = 'cdo mergetime'\n",
    "operation_str2 = ' -fldavg -selname,'+varname_str\n",
    "basestate_file = \" \"+workdir+'python/netcdf/'+test_input_sounding+'_base_state.nc'\n",
    "meanprof_file = \" \"+workdir+'python/netcdf/'+test_input_sounding+'_mean_profile_'+str(nd_avg)+'d.nc'\n",
    "\n",
    "if do_cdo_3d:\n",
    "\n",
    "    # Generate mean base state file for single time step (doesn't change)\n",
    "    # First remove file if exists\n",
    "    process = subprocess.Popen(['rm -f '+basestate_file], shell=True, stdout=subprocess.PIPE, universal_newlines=True)\n",
    "    # Generate file\n",
    "    process = subprocess.Popen(['cdo fldavg -selname,PHB -seltimestep,1 '+wrffiles[0]+basestate_file], shell=True, stdout=subprocess.PIPE, universal_newlines=True)\n",
    "    lines = process.stdout.readlines()\n",
    "    for iline in lines:\n",
    "        print(iline)\n",
    "\n",
    "    # File selection for averaging\n",
    "    ifile_first = nd_smalldom - nd_avg # assumes these inputs are in units of days\n",
    "    ifile_last = ifile_first+nd_avg\n",
    "    # Check that n-files = nd_avg\n",
    "    if len(wrffiles[ifile_first:ifile_last]) == nd_avg:\n",
    "        print()\n",
    "        print(\"File selection checks out!!\")\n",
    "        print()\n",
    "    else:\n",
    "        print()\n",
    "        print(\"FIX FILE SELECTION!!\")\n",
    "        print()\n",
    "\n",
    "    # Create string array of file-specific commands\n",
    "    cdo_line = [operation_str1]\n",
    "    for ifil in wrffiles[ifile_first:ifile_last]:\n",
    "        cdo_line.append(operation_str2+ifil)\n",
    "    # Then join them into one string\n",
    "    cdo_line_merged = \" \".join(cdo_line)\n",
    "\n",
    "    # Run CDO command\n",
    "    # First remove file if exists\n",
    "    process = subprocess.Popen(['rm -f '+meanprof_file], shell=True, stdout=subprocess.PIPE, universal_newlines=True)\n",
    "    process = subprocess.Popen([cdo_line_merged+meanprof_file], shell=True, stdout=subprocess.PIPE, universal_newlines=True)\n",
    "    lines = process.stdout.readlines()\n",
    "    for iline in lines:\n",
    "        print(iline)"
   ]
  },
  {
   "cell_type": "markdown",
   "metadata": {},
   "source": [
    "#### Read mean profile and write 'input_sounding'"
   ]
  },
  {
   "cell_type": "code",
   "execution_count": 10,
   "metadata": {},
   "outputs": [],
   "source": [
    "if write_input_sounding:\n",
    "\n",
    "    # Read in base state\n",
    "    basestate_read = Dataset(basestate_file)\n",
    "    geop_bs = np.squeeze(basestate_read.variables['PHB']) # m2/s2\n",
    "    basestate_read.close()\n",
    "\n",
    "    # Read in main variables\n",
    "    profile_read = Dataset(meanprof_file)\n",
    "    psfc_read = np.squeeze(profile_read.variables['PSFC']) # Pa\n",
    "    q2_read = np.squeeze(profile_read.variables['Q2']) # kg/kg\n",
    "    geop_read = np.squeeze(profile_read.variables['PH']) # m2/s2\n",
    "    theta_read = np.squeeze(profile_read.variables['T']) # K\n",
    "    qv_read = np.squeeze(profile_read.variables['QVAPOR']) # kg/kg\n",
    "    profile_read.close()\n",
    "\n",
    "    nz_out = (theta_read.shape)[1]\n",
    "\n",
    "    # Time averages\n",
    "    psfc_mn = np.mean(psfc_read)\n",
    "    q2_mn = np.mean(q2_read)\n",
    "    geop_mn = np.mean(geop_read, axis=0)\n",
    "    theta_mn = np.mean(theta_read, axis=0)\n",
    "    qv_mn = np.mean(qv_read, axis=0)\n",
    "\n",
    "    # Modify variables into required format & units\n",
    "    psfc_mn *= 1e-2 # Pa --> hPa\n",
    "    q2_mn *= 1e3 # kg/kg --> g/kg\n",
    "    hght_mn = (geop_mn + geop_bs)/9.81\n",
    "    theta_mn += 300 # K\n",
    "    qv_mn *= 1e3 # kg/kg --> g/kg\n",
    "\n",
    "    # Interpolate height from staggered grid\n",
    "    hght_mn = (hght_mn[1:]+hght_mn[0:-1])*0.5\n",
    "\n",
    "    # Write 'input_sounding'\n",
    "    file_out = \"input_sounding\"\n",
    "    f_out = open(file_out, 'w')\n",
    "    f_out.writelines((f\"{psfc_mn:.6f}\", '  ', f\"{sst:.1f}\", '  ', f\"{q2_mn:.6f}\", \"\\n\"))\n",
    "    for iz in range(nz_out):\n",
    "        f_out.writelines((f\"{hght_mn[iz]:.6f}\", '  ', f\"{theta_mn[iz]:.6f}\", '  ', f\"{qv_mn[iz]:.6f}\", '  ',\n",
    "                        \"0.0\", '  ', \"0.0\", \"\\n\"))\n",
    "    f_out.close()"
   ]
  }
 ],
 "metadata": {
  "kernelspec": {
   "display_name": "plotting",
   "language": "python",
   "name": "python3"
  },
  "language_info": {
   "codemirror_mode": {
    "name": "ipython",
    "version": 3
   },
   "file_extension": ".py",
   "mimetype": "text/x-python",
   "name": "python",
   "nbconvert_exporter": "python",
   "pygments_lexer": "ipython3",
   "version": "3.11.10"
  }
 },
 "nbformat": 4,
 "nbformat_minor": 2
}
