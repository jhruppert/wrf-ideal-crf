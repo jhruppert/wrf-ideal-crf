{
 "cells": [
  {
   "cell_type": "markdown",
   "metadata": {},
   "source": [
    "Notebook to read and fix hfout output times\n",
    "\n",
    "This script leverages the CDO (https://code.mpimet.mpg.de/projects/cdo/) module via subprocess (executes as a terminal command) to generate basic time series, which helps for checking for RCE. This should be available either by loading as a module or installing into the conda/mamba kernel you're running.\n",
    "\n",
    "James Ruppert  \n",
    "21 April 2024"
   ]
  },
  {
   "cell_type": "code",
   "execution_count": 1,
   "metadata": {},
   "outputs": [],
   "source": [
    "import subprocess\n",
    "from read_wrf_ideal import *"
   ]
  },
  {
   "cell_type": "markdown",
   "metadata": {},
   "source": [
    "## Main Settings"
   ]
  },
  {
   "cell_type": "code",
   "execution_count": 2,
   "metadata": {},
   "outputs": [],
   "source": [
    "# Small domain model time specs\n",
    "npd_wrf = 48 # time steps per day\n",
    "npd_hf = 288 # time steps per day\n",
    "# npfile = npd # time steps per output file\n",
    "nd=50 # total n-days of run\n",
    "\n",
    "# Vertical interpolation settings\n",
    "dp_int = 20 # hPa\n",
    "top_p = 100"
   ]
  },
  {
   "cell_type": "markdown",
   "metadata": {},
   "source": [
    "### Directories and model output files"
   ]
  },
  {
   "cell_type": "code",
   "execution_count": 3,
   "metadata": {},
   "outputs": [],
   "source": [
    "test_process='ctl'\n",
    "# test_process='xcrf'\n",
    "\n",
    "# wrfdir = \"/glade/derecho/scratch/ruppert/wrf-ideal/largedom2/\"\n",
    "wrfdir = \"/glade/campaign/univ/uokl0049/ideal/largedom2/\"+test_process+\"/\"\n",
    "workdir = \"/glade/work/ruppert/wrf-ideal/\"\n",
    "wrftag = \"wrfout_d01\"\n",
    "hftag = \"hfout_d01\"\n",
    "\n",
    "figdir = \"/glade/u/home/ruppert/figures/wrf-ideal/\"\n",
    "\n",
    "# WRFOUT files\n",
    "wrffiles = get_wrf_file_list(wrfdir, wrftag)\n",
    "# times_wrf = get_times_wrffiles(wrffiles)\n",
    "# print('WRF file list contains',times_wrf.size,'time steps')\n",
    "# print('WRF file list contains',times_wrf.size/npd_wrf,'days')\n",
    "\n",
    "# High-frequency (HFOUT) files\n",
    "hffiles = get_wrf_file_list(wrfdir, hftag)\n",
    "# print('HF file list contains',times_hf.size-1,'time steps')\n",
    "# print('HF file list contains',(times_hf.size-1)/npd_hf,'days')"
   ]
  },
  {
   "cell_type": "markdown",
   "metadata": {},
   "source": [
    "## Fix output time steps\n",
    "\n",
    "At model restarts, output from special streams begins at output_time_step + 1, yielding inconsistent files from then onward, e.g., starting from 00:05 UTC instead of 00:00 UTC.\n",
    "\n",
    "The problem is corrected simply: this code block creates a copy of the first time step of the pre-restart output file, with the original naming convention. The original file is first saved as *sav.hfout...*). The new file will then have a single time step but will be in the correct sequence for future *cdo mergetime* calls."
   ]
  },
  {
   "cell_type": "code",
   "execution_count": 11,
   "metadata": {},
   "outputs": [],
   "source": [
    "# do_fix_output_times = True\n",
    "do_fix_output_times = False\n",
    "\n",
    "# Create string array of file-specific commands\n",
    "if do_fix_output_times:\n",
    "    # for ifil in range(len(hffiles)):\n",
    "    for ifil in range(23,24):\n",
    "        if hffiles[ifil][-4] == '5':\n",
    "            print(hffiles[ifil])\n",
    "            # First save a copy of the original, then \n",
    "            outfname = 'sav.'+hffiles[ifil-1].split('/')[-1]\n",
    "            outfile = wrfdir+outfname\n",
    "            process = subprocess.Popen(['mv '+hffiles[ifil-1]+' '+outfile], shell=True, stdout=subprocess.PIPE, universal_newlines=True)\n",
    "            lines = process.stdout.readlines()\n",
    "            for iline in lines:\n",
    "                print(iline)\n",
    "            print()\n",
    "            process = subprocess.Popen(['cdo copy -seltimestep,1 '+outfile+' '+hffiles[ifil-1]], shell=True, stdout=subprocess.PIPE, universal_newlines=True)\n",
    "            lines = process.stdout.readlines()\n",
    "            for iline in lines:\n",
    "                print(iline)\n",
    "            continue"
   ]
  }
 ],
 "metadata": {
  "kernelspec": {
   "display_name": "plotting",
   "language": "python",
   "name": "python3"
  },
  "language_info": {
   "codemirror_mode": {
    "name": "ipython",
    "version": 3
   },
   "file_extension": ".py",
   "mimetype": "text/x-python",
   "name": "python",
   "nbconvert_exporter": "python",
   "pygments_lexer": "ipython3",
   "version": "3.11.10"
  }
 },
 "nbformat": 4,
 "nbformat_minor": 2
}
